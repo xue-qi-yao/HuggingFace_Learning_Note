{
 "cells": [
  {
   "cell_type": "markdown",
   "metadata": {},
   "source": [
    "#### There are mainly three categories of tokenizers:\n",
    "<div>\n",
    "<img src=\"image/tokenizer1.png\" width=800/>\n",
    "</div>"
   ]
  },
  {
   "cell_type": "markdown",
   "metadata": {},
   "source": [
    "#### Word Based\n",
    "- Each word have specific ID\n",
    "<div>\n",
    "<img src=\"image/tokenizer2.png\" width=800/>\n",
    "</div>"
   ]
  },
  {
   "cell_type": "markdown",
   "metadata": {},
   "source": [
    "- Very similar words have entirely different meaning and the vocabulary can end up very large, result in heavy models\n",
    "<div>\n",
    "<img src=\"image/tokenizer3.png\" width=200/>\n",
    "</div>"
   ]
  },
  {
   "cell_type": "markdown",
   "metadata": {},
   "source": [
    "- Out of vocabulary wrods result in a loss of information and have the same representation\n",
    "<div>\n",
    "<img src=\"image/tokenizer4.png\" width=800/>\n",
    "</div>"
   ]
  },
  {
   "cell_type": "markdown",
   "metadata": {},
   "source": [
    "#### Character based\n",
    "- Fewer out of vocabulary words but very long sequences and less meaningful tokens\n",
    "<div>\n",
    "<img src=\"image/tokenizer5.png\" width=800/>\n",
    "</div>"
   ]
  },
  {
   "cell_type": "markdown",
   "metadata": {},
   "source": [
    "#### Subword based \n",
    "Find a middle ground between word and character-based tokenization\n",
    "<div>\n",
    "<img src=\"image/tokenizer6.png\" width=800/>\n",
    "</div>"
   ]
  },
  {
   "cell_type": "markdown",
   "metadata": {},
   "source": [
    "#### The tokenization pipeline: from input text ot a list of numbers:\n",
    "<div>\n",
    "<img src=\"image/tokenizer7.png\" width=800/>\n",
    "</div>"
   ]
  },
  {
   "cell_type": "markdown",
   "metadata": {},
   "source": [
    "#### First step of the pipeline is to split the text into tokens using the ***tokenize*** method, different model may have different tokenization convention"
   ]
  },
  {
   "cell_type": "code",
   "execution_count": 5,
   "metadata": {},
   "outputs": [
    {
     "name": "stdout",
     "output_type": "stream",
     "text": [
      "['let', \"'\", 's', 'try', 'to', 'token', '##ize', '!']\n",
      "['▁let', \"'\", 's', '▁try', '▁to', '▁to', 'ken', 'ize', '!']\n"
     ]
    }
   ],
   "source": [
    "from transformers import AutoTokenizer\n",
    "\n",
    "tokenizer = AutoTokenizer.from_pretrained(\"bert-base-uncased\")\n",
    "tokens = tokenizer.tokenize(\"Let's try to tokenize!\")\n",
    "print(tokens)\n",
    "\n",
    "tokenizer = AutoTokenizer.from_pretrained(\"albert-base-v1\")\n",
    "tokens = tokenizer.tokenize(\"Let's try to tokenize!\")\n",
    "print(tokens)"
   ]
  },
  {
   "cell_type": "markdown",
   "metadata": {},
   "source": [
    "#### Lastly the tokenizer adds a special tokens the model expects using the ***convert_tokens_to_ids*** and ***prepare_for_model*** method"
   ]
  },
  {
   "cell_type": "code",
   "execution_count": 12,
   "metadata": {},
   "outputs": [
    {
     "name": "stderr",
     "output_type": "stream",
     "text": [
      "You're using a BertTokenizerFast tokenizer. Please note that with a fast tokenizer, using the `__call__` method is faster than using a method to encode the text followed by a call to the `pad` method to get a padded encoding.\n"
     ]
    },
    {
     "name": "stdout",
     "output_type": "stream",
     "text": [
      "[2292, 1005, 1055, 3046, 2000, 19204, 4697, 999]\n",
      "{'input_ids': [101, 2292, 1005, 1055, 3046, 2000, 19204, 4697, 999, 102], 'token_type_ids': [0, 0, 0, 0, 0, 0, 0, 0, 0, 0], 'attention_mask': [1, 1, 1, 1, 1, 1, 1, 1, 1, 1]}\n"
     ]
    }
   ],
   "source": [
    "from transformers import AutoTokenizer\n",
    "\n",
    "tokenizer = AutoTokenizer.from_pretrained(\"bert-base-uncased\")\n",
    "tokens = tokenizer.tokenize(\"Let's try to tokenize!\")\n",
    "input_ids = tokenizer.convert_tokens_to_ids(tokens)\n",
    "print(input_ids)\n",
    "final_inputs = tokenizer.prepare_for_model(input_ids)\n",
    "print(final_inputs)"
   ]
  },
  {
   "cell_type": "markdown",
   "metadata": {},
   "source": [
    "#### The ***decode*** method allows us to check how the final output of the tokenizer translates back into text"
   ]
  },
  {
   "cell_type": "code",
   "execution_count": 17,
   "metadata": {},
   "outputs": [
    {
     "name": "stdout",
     "output_type": "stream",
     "text": [
      "{'input_ids': [101, 2421, 112, 188, 2222, 1106, 22559, 3708, 106, 102], 'token_type_ids': [0, 0, 0, 0, 0, 0, 0, 0, 0, 0], 'attention_mask': [1, 1, 1, 1, 1, 1, 1, 1, 1, 1]}\n",
      "[CLS] Let's try to tokenize! [SEP]\n",
      "{'input_ids': [0, 7939, 18, 860, 7, 19233, 2072, 328, 2], 'attention_mask': [1, 1, 1, 1, 1, 1, 1, 1, 1]}\n",
      "<s>Let's try to tokenize!</s>\n"
     ]
    }
   ],
   "source": [
    "from transformers import AutoTokenizer\n",
    "\n",
    "tokenizer = AutoTokenizer.from_pretrained(\"bert-base-cased\")\n",
    "inputs = tokenizer(\"Let's try to tokenize!\")\n",
    "print(inputs)\n",
    "print(tokenizer.decode(inputs[\"input_ids\"]))\n",
    "\n",
    "tokenizer = AutoTokenizer.from_pretrained(\"roberta-base\")\n",
    "inputs = tokenizer(\"Let's try to tokenize!\")\n",
    "print(inputs)\n",
    "print(tokenizer.decode(inputs[\"input_ids\"]))"
   ]
  },
  {
   "cell_type": "markdown",
   "metadata": {},
   "source": [
    "## Batching inputs together"
   ]
  },
  {
   "cell_type": "markdown",
   "metadata": {},
   "source": [
    "#### Sentences we want to group inside a batch will often have different length"
   ]
  },
  {
   "cell_type": "code",
   "execution_count": 23,
   "metadata": {},
   "outputs": [
    {
     "name": "stderr",
     "output_type": "stream",
     "text": [
      "You're using a DistilBertTokenizerFast tokenizer. Please note that with a fast tokenizer, using the `__call__` method is faster than using a method to encode the text followed by a call to the `pad` method to get a padded encoding.\n"
     ]
    },
    {
     "name": "stdout",
     "output_type": "stream",
     "text": [
      "ids 1: [101, 1045, 2031, 2042, 3403, 2005, 1037, 17662, 12172, 2607, 2026, 2878, 2166, 102] \n",
      "ids 2: [101, 1045, 5223, 2023, 102]\n"
     ]
    }
   ],
   "source": [
    "from transformers import AutoTokenizer\n",
    "\n",
    "checkpoint = \"distilbert-base-uncased-finetuned-sst-2-english\"\n",
    "tokenizer = AutoTokenizer.from_pretrained(checkpoint)\n",
    "sentences = [\n",
    "    \"I have been waiting for a HuggingFace course my whole life\",\n",
    "    \"I hate this\"\n",
    "]\n",
    "tokens = [tokenizer.tokenize(sentence) for sentence in sentences]\n",
    "ids = [tokenizer.prepare_for_model(tokenizer.convert_tokens_to_ids(token))[\"input_ids\"] for token in tokens]\n",
    "print(f\"ids 1: {ids[0]} \\nids 2: {ids[1]}\")"
   ]
  },
  {
   "cell_type": "markdown",
   "metadata": {},
   "source": [
    "#### Usually pad the smaller sentences to the length of the longest one"
   ]
  },
  {
   "cell_type": "code",
   "execution_count": 25,
   "metadata": {},
   "outputs": [
    {
     "name": "stdout",
     "output_type": "stream",
     "text": [
      "The pad token is [PAD] and the pad token ids is 0\n"
     ]
    },
    {
     "name": "stderr",
     "output_type": "stream",
     "text": [
      "/Users/xueqiyao/anaconda3/envs/Pytorch/lib/python3.9/site-packages/transformers/tokenization_utils_base.py:1601: FutureWarning: `clean_up_tokenization_spaces` was not set. It will be set to `True` by default. This behavior will be depracted in transformers v4.45, and will be then set to `False` by default. For more details check this issue: https://github.com/huggingface/transformers/issues/31884\n",
      "  warnings.warn(\n"
     ]
    }
   ],
   "source": [
    "from transformers import AutoTokenizer\n",
    "\n",
    "tokenizer = AutoTokenizer.from_pretrained(checkpoint)\n",
    "print(f\"The pad token is {tokenizer.pad_token} and the pad token ids is {tokenizer.pad_token_id}\")"
   ]
  },
  {
   "cell_type": "markdown",
   "metadata": {},
   "source": [
    "#### But just passing through a tranformer model will not give the right results, as the attention layers use the padding tokens in the context they look at for each tokens in the sentence\n",
    "<div>\n",
    "<img src=\"image/tokenizer8.png\" width=800>\n",
    "</div>"
   ]
  },
  {
   "cell_type": "code",
   "execution_count": 35,
   "metadata": {},
   "outputs": [
    {
     "name": "stdout",
     "output_type": "stream",
     "text": [
      "ids1: tensor([[  101,  1045,  2031,  2042,  3403,  2005,  1037, 17662, 12172,  2607,\n",
      "          2026,  2878,  2166,   102]]) \n",
      "ids2: tensor([[ 101, 1045, 5223, 2023,  102]]) \n",
      "all_ids: tensor([[  101,  1045,  2031,  2042,  3403,  2005,  1037, 17662, 12172,  2607,\n",
      "          2026,  2878,  2166,   102],\n",
      "        [  101,  1045,  5223,  2023,   102,     0,     0,     0,     0,     0,\n",
      "             0,     0,     0,     0]])\n",
      "tensor([[-1.3961,  1.4491]], grad_fn=<AddmmBackward0>)\n",
      "tensor([[ 4.3705, -3.5111]], grad_fn=<AddmmBackward0>)\n",
      "tensor([[-1.3961,  1.4491],\n",
      "        [ 3.0511, -2.6237]], grad_fn=<AddmmBackward0>)\n"
     ]
    }
   ],
   "source": [
    "from transformers import AutoModelForSequenceClassification\n",
    "import torch\n",
    "\n",
    "ids1 = torch.tensor([ids[0]])\n",
    "ids2 = torch.tensor([ids[1]])\n",
    "all_ids = tokenizer(sentences, padding=True, return_tensors=\"pt\")[\"input_ids\"]\n",
    "\n",
    "model = AutoModelForSequenceClassification.from_pretrained(checkpoint)\n",
    "print(f\"ids1: {ids1} \\nids2: {ids2} \\nall_ids: {all_ids}\")\n",
    "print(model(ids1).logits)\n",
    "print(model(ids2).logits)\n",
    "print(model(all_ids).logits)"
   ]
  },
  {
   "cell_type": "markdown",
   "metadata": {},
   "source": [
    "#### To tell the attention layers to ignore the padding tokens, we need to pass them an attention mask. \n",
    "#### Use the ***AutoTokenizer*** with ***padding=True***, the tokenizer can directly prepare the inputs with padding and the proper attention mask. \n",
    "#### The ids of input sentence and the corresponding attention mask, can be get by indexing the ***AutoTokenizer*** output with ***input_ids*** and ***attention_mask***\n",
    "<div>\n",
    "<img src=\"image/tokenizer9.png\" width=800>\n",
    "</div>"
   ]
  },
  {
   "cell_type": "code",
   "execution_count": 39,
   "metadata": {},
   "outputs": [
    {
     "name": "stdout",
     "output_type": "stream",
     "text": [
      "tensor([[-1.3961,  1.4491],\n",
      "        [ 4.3705, -3.5111]], grad_fn=<AddmmBackward0>)\n"
     ]
    }
   ],
   "source": [
    "attention_mask = tokenizer(sentences, padding=True, return_tensors=\"pt\")[\"attention_mask\"]\n",
    "output = model(all_ids, attention_mask)\n",
    "print(output.logits)"
   ]
  },
  {
   "cell_type": "code",
   "execution_count": null,
   "metadata": {},
   "outputs": [],
   "source": []
  }
 ],
 "metadata": {
  "kernelspec": {
   "display_name": "Pytorch",
   "language": "python",
   "name": "python3"
  },
  "language_info": {
   "codemirror_mode": {
    "name": "ipython",
    "version": 3
   },
   "file_extension": ".py",
   "mimetype": "text/x-python",
   "name": "python",
   "nbconvert_exporter": "python",
   "pygments_lexer": "ipython3",
   "version": "3.9.18"
  }
 },
 "nbformat": 4,
 "nbformat_minor": 2
}
